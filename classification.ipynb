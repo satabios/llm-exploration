{
 "cells": [
  {
   "cell_type": "code",
   "metadata": {
    "ExecuteTime": {
     "end_time": "2024-12-13T19:12:47.632434Z",
     "start_time": "2024-12-13T19:12:45.070684Z"
    }
   },
   "source": [
    "import collections\n",
    "\n",
    "import datasets\n",
    "import matplotlib.pyplot as plt\n",
    "import numpy as np\n",
    "import torch\n",
    "import torch.nn.functional as F\n",
    "import torch.optim as optim"
   ],
   "outputs": [],
   "execution_count": 2
  },
  {
   "cell_type": "code",
   "metadata": {
    "ExecuteTime": {
     "end_time": "2024-12-13T19:12:49.788478Z",
     "start_time": "2024-12-13T19:12:47.640066Z"
    }
   },
   "source": [
    "dataset = datasets.load_dataset(\"zapsdcn/imdb\", cache_dir=\"../data/classification/\")"
   ],
   "outputs": [],
   "execution_count": 3
  },
  {
   "cell_type": "markdown",
   "metadata": {},
   "source": [
    "The loaded `dataset` is already split into training, validation and testing sets. Looking at the outputs, we can see the number of examples (`num_rows`) in each split and three features named `id`, `text` and `label`."
   ]
  },
  {
   "cell_type": "code",
   "metadata": {
    "ExecuteTime": {
     "end_time": "2024-12-13T19:12:49.808626Z",
     "start_time": "2024-12-13T19:12:49.804106Z"
    }
   },
   "source": [
    "train_dataset = dataset['train'] \n",
    "validation_dataset = dataset['validation']\n",
    "test_dataset = dataset['test']\n",
    "\n",
    "train_dataset, validation_dataset, test_dataset"
   ],
   "outputs": [
    {
     "data": {
      "text/plain": [
       "(Dataset({\n",
       "     features: ['id', 'text', 'label'],\n",
       "     num_rows: 20000\n",
       " }),\n",
       " Dataset({\n",
       "     features: ['id', 'text', 'label'],\n",
       "     num_rows: 5000\n",
       " }),\n",
       " Dataset({\n",
       "     features: ['id', 'text', 'label'],\n",
       "     num_rows: 25000\n",
       " }))"
      ]
     },
     "execution_count": 4,
     "metadata": {},
     "output_type": "execute_result"
    }
   ],
   "execution_count": 4
  },
  {
   "cell_type": "markdown",
   "metadata": {},
   "source": [
    "Looking at one such training example, we can see that \n",
    "- `id` contains information related to some index. Don't bother too much about this as this is not relevant for the application at hand.\n",
    "- `text` is where we have the actual review!\n",
    "- `label` denotes whether it's a good (if 1) or bad (if 0) review! "
   ]
  },
  {
   "cell_type": "code",
   "metadata": {
    "ExecuteTime": {
     "end_time": "2024-12-13T19:12:49.891562Z",
     "start_time": "2024-12-13T19:12:49.887841Z"
    }
   },
   "source": [
    "train_dataset[-3]"
   ],
   "outputs": [
    {
     "data": {
      "text/plain": [
       "{'id': 'train_10348',\n",
       " 'text': 'This movie is very good. The screenplay is enchanting. But Meryl Streep is most impressive. Her performance is excellent. She brings me to go into the heart of her role.',\n",
       " 'label': 1}"
      ]
     },
     "execution_count": 5,
     "metadata": {},
     "output_type": "execute_result"
    }
   ],
   "execution_count": 5
  },
  {
   "cell_type": "markdown",
   "metadata": {},
   "source": [
    "## Tokenization and Vocabulary Building"
   ]
  },
  {
   "cell_type": "code",
   "metadata": {
    "ExecuteTime": {
     "end_time": "2024-12-13T19:12:51.553245Z",
     "start_time": "2024-12-13T19:12:49.938531Z"
    }
   },
   "source": [
    "from transformers import AutoTokenizer\n",
    "\n",
    "# Initialize a Hugging Face tokenizer\n",
    "tokenizer = AutoTokenizer.from_pretrained(\"bert-base-uncased\")  # You can choose any Hugging Face model\n",
    "\n",
    "# Example of tokenizing a text using Hugging Face tokenizer\n",
    "sample_text = train_dataset[3]['text']\n",
    "tokenized_output = tokenizer(sample_text, padding=True, truncation=True, return_tensors=\"pt\")\n",
    "\n",
    "print(tokenized_output)\n"
   ],
   "outputs": [
    {
     "name": "stdout",
     "output_type": "stream",
     "text": [
      "{'input_ids': tensor([[  101,  2009,  1005,  1055,  2107,  1037,  9467,  2008,  2138,  1997,\n",
      "          2009,  1005,  1055,  2516,  2023,  2143,  2097,  2022,  9511,  2011,\n",
      "          2111,  2040,  5223,  2374,  1012,  8815,  2009,  2066, 10272,  3511,\n",
      "          2003,  2172,  2062,  2084,  1037, 18178,  2229,  2100,  2998, 17312,\n",
      "          1012,  1996,  2466,  2240,  2003,  7244,  1998,  9414,  2302,  2108,\n",
      "          2061, 27659,  1010,  1996, 13198,  2020,  4756,  2041,  5189,  6057,\n",
      "          1010,  1998,  1996,  3494,  2024,  2092,  6051,  1012, 11968, 23356,\n",
      "          2121,  6583, 17643,  1998, 26679,  2527,  5000,  3051,  2024,  8235,\n",
      "          2004, 12908, 12245,  1998, 11044,  1010,  5128,  1999,  2307,  4616,\n",
      "          2119,  2006,  1998,  2125,  1996,  6510,  1012,  2019,  6279,  3286,\n",
      "          1047,  5886,  2003,  6919,  2004, 12245,  1005,  5191,  2269,  1010,\n",
      "          1998,  5655, 13919,  1011, 11527,  2015,  1010,  2040,  2001,  2061,\n",
      "         29350,  4763,  1999,  1005,  4536,  2007,  1996,  6548,  1010,  1005,\n",
      "          3310,  2408,  2061,  2092,  2004,  1996,  3835,  3124,  2005,  2320,\n",
      "          1010,  2437,  2440,  2224,  1997,  2010,  9882,  3493,  9669,   999,\n",
      "          2130,  2065,  2017,  2123,  1005,  1056,  2066,  2374,  1010,  2175,\n",
      "          2156,  2023,  2143,  1012,  2065,  2505,  2009,  1005,  2222,  2191,\n",
      "          2017,  2868,  1012,   102]]), 'token_type_ids': tensor([[0, 0, 0, 0, 0, 0, 0, 0, 0, 0, 0, 0, 0, 0, 0, 0, 0, 0, 0, 0, 0, 0, 0, 0,\n",
      "         0, 0, 0, 0, 0, 0, 0, 0, 0, 0, 0, 0, 0, 0, 0, 0, 0, 0, 0, 0, 0, 0, 0, 0,\n",
      "         0, 0, 0, 0, 0, 0, 0, 0, 0, 0, 0, 0, 0, 0, 0, 0, 0, 0, 0, 0, 0, 0, 0, 0,\n",
      "         0, 0, 0, 0, 0, 0, 0, 0, 0, 0, 0, 0, 0, 0, 0, 0, 0, 0, 0, 0, 0, 0, 0, 0,\n",
      "         0, 0, 0, 0, 0, 0, 0, 0, 0, 0, 0, 0, 0, 0, 0, 0, 0, 0, 0, 0, 0, 0, 0, 0,\n",
      "         0, 0, 0, 0, 0, 0, 0, 0, 0, 0, 0, 0, 0, 0, 0, 0, 0, 0, 0, 0, 0, 0, 0, 0,\n",
      "         0, 0, 0, 0, 0, 0, 0, 0, 0, 0, 0, 0, 0, 0, 0, 0, 0, 0, 0, 0, 0, 0, 0, 0,\n",
      "         0, 0, 0, 0, 0, 0]]), 'attention_mask': tensor([[1, 1, 1, 1, 1, 1, 1, 1, 1, 1, 1, 1, 1, 1, 1, 1, 1, 1, 1, 1, 1, 1, 1, 1,\n",
      "         1, 1, 1, 1, 1, 1, 1, 1, 1, 1, 1, 1, 1, 1, 1, 1, 1, 1, 1, 1, 1, 1, 1, 1,\n",
      "         1, 1, 1, 1, 1, 1, 1, 1, 1, 1, 1, 1, 1, 1, 1, 1, 1, 1, 1, 1, 1, 1, 1, 1,\n",
      "         1, 1, 1, 1, 1, 1, 1, 1, 1, 1, 1, 1, 1, 1, 1, 1, 1, 1, 1, 1, 1, 1, 1, 1,\n",
      "         1, 1, 1, 1, 1, 1, 1, 1, 1, 1, 1, 1, 1, 1, 1, 1, 1, 1, 1, 1, 1, 1, 1, 1,\n",
      "         1, 1, 1, 1, 1, 1, 1, 1, 1, 1, 1, 1, 1, 1, 1, 1, 1, 1, 1, 1, 1, 1, 1, 1,\n",
      "         1, 1, 1, 1, 1, 1, 1, 1, 1, 1, 1, 1, 1, 1, 1, 1, 1, 1, 1, 1, 1, 1, 1, 1,\n",
      "         1, 1, 1, 1, 1, 1]])}\n"
     ]
    }
   ],
   "execution_count": 6
  },
  {
   "cell_type": "code",
   "metadata": {
    "ExecuteTime": {
     "end_time": "2024-12-13T19:12:51.569153Z",
     "start_time": "2024-12-13T19:12:51.566864Z"
    }
   },
   "source": [
    "def tokenize(example, tokenizer, max_length):\n",
    "    tokens = tokenizer(example[\"text\"])[:max_length]\n",
    "    return {\"tokens\": tokens}"
   ],
   "outputs": [],
   "execution_count": 7
  },
  {
   "cell_type": "code",
   "metadata": {
    "ExecuteTime": {
     "end_time": "2024-12-13T19:13:00.467511Z",
     "start_time": "2024-12-13T19:12:51.641440Z"
    }
   },
   "source": [
    "# Define the maximum sequence length\n",
    "max_length = 512\n",
    "\n",
    "# Function to tokenize the dataset using the Hugging Face tokenizer\n",
    "def tokenize(batch, tokenizer, max_length):\n",
    "    return tokenizer(\n",
    "        batch['text'],  # Text field in the dataset\n",
    "        padding=\"max_length\",  # Pad to max_length\n",
    "        truncation=True,       # Truncate to max_length\n",
    "        max_length=max_length, # Set maximum length\n",
    "        return_tensors=\"pt\"    # Return PyTorch tensors\n",
    "    )\n",
    "\n",
    "# Apply the tokenization to train, validation, and test datasets\n",
    "train_dataset = train_dataset.map(\n",
    "    lambda batch: tokenize(batch, tokenizer=tokenizer, max_length=max_length),\n",
    "    batched=True\n",
    ")\n",
    "validation_dataset = validation_dataset.map(\n",
    "    lambda batch: tokenize(batch, tokenizer=tokenizer, max_length=max_length),\n",
    "    batched=True\n",
    ")\n",
    "test_dataset = test_dataset.map(\n",
    "    lambda batch: tokenize(batch, tokenizer=tokenizer, max_length=max_length),\n",
    "    batched=True\n",
    ")\n"
   ],
   "outputs": [
    {
     "data": {
      "text/plain": [
       "Map:   0%|          | 0/25000 [00:00<?, ? examples/s]"
      ],
      "application/vnd.jupyter.widget-view+json": {
       "version_major": 2,
       "version_minor": 0,
       "model_id": "c80b203f985343be94cdfd5203bf40cb"
      }
     },
     "metadata": {},
     "output_type": "display_data"
    }
   ],
   "execution_count": 8
  },
  {
   "cell_type": "markdown",
   "metadata": {},
   "source": [
    "Let's build a volcabulary out of these tokens."
   ]
  },
  {
   "cell_type": "code",
   "metadata": {
    "ExecuteTime": {
     "end_time": "2024-12-13T19:13:00.475043Z",
     "start_time": "2024-12-13T19:13:00.472310Z"
    }
   },
   "source": [
    "train_dataset"
   ],
   "outputs": [
    {
     "data": {
      "text/plain": [
       "Dataset({\n",
       "    features: ['id', 'text', 'label', 'input_ids', 'token_type_ids', 'attention_mask'],\n",
       "    num_rows: 20000\n",
       "})"
      ]
     },
     "execution_count": 9,
     "metadata": {},
     "output_type": "execute_result"
    }
   ],
   "execution_count": 9
  },
  {
   "cell_type": "code",
   "metadata": {
    "ExecuteTime": {
     "end_time": "2024-12-13T19:13:00.546880Z",
     "start_time": "2024-12-13T19:13:00.530637Z"
    }
   },
   "source": [
    "# Special tokens are automatically handled by Hugging Face tokenizers\n",
    "special_tokens = [\"[UNK]\", \"[PAD]\"]  # These are typical for models like BERT\n",
    "\n",
    "# Ensure the tokenizer uses the correct special tokens\n",
    "tokenizer.add_special_tokens({\n",
    "    \"unk_token\": special_tokens[0],\n",
    "    \"pad_token\": special_tokens[1],\n",
    "})\n",
    "\n",
    "# Hugging Face tokenizers have a pre-built vocabulary, so we directly access it\n",
    "vocab = tokenizer.get_vocab()\n",
    "\n",
    "# Example: Print the vocabulary size\n",
    "print(f\"Vocabulary size: {len(vocab)}\")\n"
   ],
   "outputs": [
    {
     "name": "stdout",
     "output_type": "stream",
     "text": [
      "Vocabulary size: 30522\n"
     ]
    }
   ],
   "execution_count": 10
  },
  {
   "cell_type": "code",
   "metadata": {
    "ExecuteTime": {
     "end_time": "2024-12-13T19:13:00.602954Z",
     "start_time": "2024-12-13T19:13:00.600679Z"
    }
   },
   "source": [
    "print(\"Vocab Size: \", len(vocab))"
   ],
   "outputs": [
    {
     "name": "stdout",
     "output_type": "stream",
     "text": [
      "Vocab Size:  30522\n"
     ]
    }
   ],
   "execution_count": 11
  },
  {
   "cell_type": "markdown",
   "metadata": {},
   "source": [
    "Making sure that words that are not in the vocabulary gets mapped to `\"<unk>\"` and assiging a token for padding as well (we'll cover padding later)."
   ]
  },
  {
   "cell_type": "code",
   "metadata": {
    "ExecuteTime": {
     "end_time": "2024-12-13T19:13:00.939602Z",
     "start_time": "2024-12-13T19:13:00.936077Z"
    }
   },
   "source": [
    "# Access indices for special tokens directly from the tokenizer\n",
    "unk_index = tokenizer.unk_token_id  # ID for [UNK]\n",
    "pad_index = tokenizer.pad_token_id  # ID for [PAD]\n",
    "\n",
    "# Example: Test accessing a token that is not in the vocabulary\n",
    "test_token = \"some_token_that_is_not_in_vocab\"\n",
    "token_id = tokenizer.convert_tokens_to_ids(test_token)\n",
    "\n",
    "print(f\"Token: {test_token}\")\n",
    "print(f\"Token ID: {token_id}\")\n",
    "print(f\"Unknown token ID: {unk_index}\")\n",
    "print(f\"Padding token ID: {pad_index}\")\n"
   ],
   "outputs": [
    {
     "name": "stdout",
     "output_type": "stream",
     "text": [
      "Token: some_token_that_is_not_in_vocab\n",
      "Token ID: 100\n",
      "Unknown token ID: 100\n",
      "Padding token ID: 0\n"
     ]
    }
   ],
   "execution_count": 12
  },
  {
   "cell_type": "code",
   "metadata": {
    "ExecuteTime": {
     "end_time": "2024-12-13T19:13:01.003825Z",
     "start_time": "2024-12-13T19:13:01.000430Z"
    }
   },
   "source": [
    "tokens = tokenizer(train_dataset[-3][\"text\"])[\"input_ids\"]\n",
    "print(tokens)\n"
   ],
   "outputs": [
    {
     "name": "stdout",
     "output_type": "stream",
     "text": [
      "[101, 2023, 3185, 2003, 2200, 2204, 1012, 1996, 9000, 2003, 4372, 14856, 3436, 1012, 2021, 21442, 8516, 2358, 9910, 2361, 2003, 2087, 8052, 1012, 2014, 2836, 2003, 6581, 1012, 2016, 7545, 2033, 2000, 2175, 2046, 1996, 2540, 1997, 2014, 2535, 1012, 102]\n"
     ]
    }
   ],
   "execution_count": 13
  },
  {
   "cell_type": "markdown",
   "metadata": {},
   "source": [
    "Let's do this in a more refined way for all of the datasets and store these number in the `id` feature!"
   ]
  },
  {
   "cell_type": "code",
   "metadata": {
    "ExecuteTime": {
     "end_time": "2024-12-13T19:13:19.091394Z",
     "start_time": "2024-12-13T19:13:19.088837Z"
    }
   },
   "source": [
    "def numericalize(example, vocab):\n",
    "    id = vocab.lookup_indices(example[\"tokens\"])\n",
    "    return {\"id\": id}"
   ],
   "outputs": [],
   "execution_count": 16
  },
  {
   "cell_type": "code",
   "metadata": {
    "ExecuteTime": {
     "end_time": "2024-12-13T19:22:17.598866Z",
     "start_time": "2024-12-13T19:21:58.744031Z"
    }
   },
   "source": [
    "# Define a preprocessing function for tokenization\n",
    "def preprocess_function(batch):\n",
    "    return tokenizer(\n",
    "        batch[\"text\"],  # Replace \"text\" with the actual text field in your dataset\n",
    "        padding=\"max_length\",\n",
    "        truncation=True,\n",
    "        max_length=512,\n",
    "        return_tensors=\"pt\",\n",
    "    )\n",
    "\n",
    "# Apply tokenization to datasets\n",
    "train_dataset = train_dataset.map(preprocess_function, batched=True)\n",
    "validation_dataset = validation_dataset.map(preprocess_function, batched=True)\n",
    "test_dataset = test_dataset.map(preprocess_function, batched=True)\n",
    "\n",
    "# Format datasets for PyTorch DataLoader\n",
    "train_dataset.set_format(type=\"torch\", columns=[\"input_ids\", \"attention_mask\", \"label\"])\n",
    "validation_dataset.set_format(type=\"torch\", columns=[\"input_ids\", \"attention_mask\", \"label\"])\n",
    "test_dataset.set_format(type=\"torch\", columns=[\"input_ids\", \"attention_mask\", \"label\"])\n",
    "\n",
    "# Define a custom collate function for batching\n",
    "def collate_fn(batch):\n",
    "    # Convert batch (list of dicts) into a dict of tensors\n",
    "    batch_dict = {key: [d[key] for d in batch] for key in batch[0].keys()}\n",
    "\n",
    "    for key in batch_dict.keys():\n",
    "        if key in [\"input_ids\", \"attention_mask\"]:  # Fields that need padding\n",
    "            batch_dict[key] = torch.nn.utils.rnn.pad_sequence(\n",
    "                batch_dict[key],\n",
    "                batch_first=True,\n",
    "                padding_value=tokenizer.pad_token_id,\n",
    "            )\n",
    "        elif key == \"label\":  # Labels should be stacked\n",
    "            batch_dict[key] = torch.tensor(batch_dict[key], dtype=torch.long)\n",
    "        else:\n",
    "            raise ValueError(f\"Unexpected field '{key}' in batch.\")\n",
    "\n",
    "    return batch_dict\n",
    "\n",
    "# Function to create DataLoader\n",
    "def get_data_loader(dataset, batch_size, shuffle=False):\n",
    "    return torch.utils.data.DataLoader(\n",
    "        dataset=dataset,\n",
    "        batch_size=batch_size,\n",
    "        collate_fn=collate_fn,\n",
    "        shuffle=shuffle,\n",
    "    )\n",
    "\n",
    "# Batch size\n",
    "batch_size = 512\n",
    "\n",
    "# Create DataLoaders for train, validation, and test datasets\n",
    "train_data_loader = get_data_loader(train_dataset, batch_size, shuffle=True)\n",
    "validation_data_loader = get_data_loader(validation_dataset, batch_size)\n",
    "test_data_loader = get_data_loader(test_dataset, batch_size)\n"
   ],
   "outputs": [
    {
     "data": {
      "text/plain": [
       "Map:   0%|          | 0/20000 [00:00<?, ? examples/s]"
      ],
      "application/vnd.jupyter.widget-view+json": {
       "version_major": 2,
       "version_minor": 0,
       "model_id": "b312a1e41d634c3aae189d1464ef05f9"
      }
     },
     "metadata": {},
     "output_type": "display_data"
    },
    {
     "data": {
      "text/plain": [
       "Map:   0%|          | 0/5000 [00:00<?, ? examples/s]"
      ],
      "application/vnd.jupyter.widget-view+json": {
       "version_major": 2,
       "version_minor": 0,
       "model_id": "001b4484d248425f9a1b1c1bce753b1d"
      }
     },
     "metadata": {},
     "output_type": "display_data"
    },
    {
     "data": {
      "text/plain": [
       "Map:   0%|          | 0/25000 [00:00<?, ? examples/s]"
      ],
      "application/vnd.jupyter.widget-view+json": {
       "version_major": 2,
       "version_minor": 0,
       "model_id": "0221a190fd1246d5876ddbe65789c8c3"
      }
     },
     "metadata": {},
     "output_type": "display_data"
    }
   ],
   "execution_count": 17
  },
  {
   "cell_type": "code",
   "metadata": {
    "ExecuteTime": {
     "end_time": "2024-12-13T19:22:17.607132Z",
     "start_time": "2024-12-13T19:22:17.602867Z"
    }
   },
   "source": [
    "class SelfAttention(torch.nn.Module):\n",
    "    def __init__(self, emb, heads):\n",
    "        super().__init__()\n",
    "        assert emb % heads == 0\n",
    "        self.emb, self.heads = emb, heads\n",
    "\n",
    "        # Three emb x emb matrix multiplications to get queries, keys and values\n",
    "        self.to_queries = torch.nn.Linear(emb, emb)\n",
    "        self.to_keys = torch.nn.Linear(emb, emb)\n",
    "        self.to_values = torch.nn.Linear(emb, emb)\n",
    "\n",
    "        # One last Linear layer at the end with emb x emb matrix multiplication\n",
    "        self.unify = torch.nn.Linear(emb, emb)\n",
    "\n",
    "    def forward(self, x):\n",
    "        b, t, emb = x.shape # Batch Size, Sequence Length, embedding dim\n",
    "        h = self.heads\n",
    "\n",
    "        # Computing queries, keys and values\n",
    "        queries = self.to_queries(x)\n",
    "        keys = self.to_keys(x)\n",
    "        values = self.to_values(x)\n",
    "\n",
    "        # Slicing out the heads\n",
    "        queries = queries.view(b, t, h, emb//h)\n",
    "        keys = keys.view(b, t, h, emb//h)\n",
    "        values = values.view(b, t, h, emb//h)\n",
    "\n",
    "        # Folding heads into batch dims (Remember head computations can run in parallel)\n",
    "        queries = queries.transpose(1, 2).reshape(b*h, t, emb//h)\n",
    "        keys = keys.transpose(1, 2).reshape(b*h, t, emb//h)\n",
    "        values = values.transpose(1, 2).reshape(b*h, t, emb//h)\n",
    "\n",
    "        # Here comes Self Attention...\n",
    "        W = torch.bmm(queries, keys.transpose(1,2)) # Computing Weights\n",
    "        W = W / (emb**(1/2)) # Scaling for stability\n",
    "        W = F.softmax(W, dim=2) # Row-wise Softmax\n",
    "        y = torch.bmm(W, values).view(b, h, t, emb//h) # Computing y\n",
    "        y = y.transpose(1, 2).reshape(b, t, emb) # Concatenating heads\n",
    "\n",
    "        # Final Linear NN Layer\n",
    "        return self.unify(y), W"
   ],
   "outputs": [],
   "execution_count": 18
  },
  {
   "cell_type": "markdown",
   "metadata": {},
   "source": [
    "## Transformer Block"
   ]
  },
  {
   "cell_type": "code",
   "metadata": {
    "ExecuteTime": {
     "end_time": "2024-12-13T19:22:17.655408Z",
     "start_time": "2024-12-13T19:22:17.652119Z"
    }
   },
   "source": [
    "class TransformerBlock(torch.nn.Module):\n",
    "    def __init__(self, emb, heads):\n",
    "        super().__init__()\n",
    "\n",
    "        # Attention Block\n",
    "        self.attention = SelfAttention(emb, heads)\n",
    "\n",
    "        # Layer Normalizations\n",
    "        self.norm1 = torch.nn.LayerNorm(emb)\n",
    "        self.norm2 = torch.nn.LayerNorm(emb)\n",
    "\n",
    "        # FCN\n",
    "        self.fcn = torch.nn.Sequential(\n",
    "            torch.nn.Linear(emb, 4*emb),\n",
    "            torch.nn.ReLU(),\n",
    "            torch.nn.Linear(4*emb, emb)\n",
    "        )\n",
    "\n",
    "    def forward(self, x):\n",
    "        attented, W = self.attention(x)\n",
    "        x = self.norm1(attented + x)\n",
    "        ff = self.fcn(x)\n",
    "        \n",
    "        return self.norm2(ff + x), W"
   ],
   "outputs": [],
   "execution_count": 19
  },
  {
   "cell_type": "markdown",
   "metadata": {},
   "source": [
    "## Transformer Neural Network"
   ]
  },
  {
   "cell_type": "code",
   "metadata": {
    "ExecuteTime": {
     "end_time": "2024-12-13T19:22:17.707047Z",
     "start_time": "2024-12-13T19:22:17.703142Z"
    }
   },
   "source": [
    "class Transformer(torch.nn.Module):\n",
    "    def __init__(self, emb, heads, max_seq_length, vocab_size):\n",
    "        super().__init__()\n",
    "        self.vocab_size = vocab_size\n",
    "\n",
    "        self.token_embedding = torch.nn.Embedding(embedding_dim=emb, num_embeddings=vocab_size)\n",
    "        self.pos_embedding = torch.nn.Embedding(embedding_dim=emb, num_embeddings=max_seq_length)\n",
    "\n",
    "        self.tblock = TransformerBlock(emb=emb, heads=heads)\n",
    "\n",
    "        self.toprobs = torch.nn.Linear(emb, 2)\n",
    "\n",
    "    def forward(self, x):\n",
    "        tokens = self.token_embedding(x)\n",
    "        b, t, e = tokens.shape\n",
    "        \n",
    "        positions = self.pos_embedding(torch.arange(t, device=\"cuda\"))[None, :, :].expand(b, t, e)\n",
    "        x = tokens + positions\n",
    "\n",
    "        x, W = self.tblock(x)\n",
    "        x = torch.mean(x, dim=1)\n",
    "        x = self.toprobs(x)\n",
    "\n",
    "        return F.log_softmax(x, dim=1), W"
   ],
   "outputs": [],
   "execution_count": 20
  },
  {
   "cell_type": "code",
   "metadata": {
    "ExecuteTime": {
     "end_time": "2024-12-13T19:22:17.776844Z",
     "start_time": "2024-12-13T19:22:17.754063Z"
    }
   },
   "source": [
    "for batch in train_data_loader:\n",
    "    print(batch.keys())\n",
    "    break\n"
   ],
   "outputs": [
    {
     "name": "stdout",
     "output_type": "stream",
     "text": [
      "dict_keys(['label', 'input_ids', 'attention_mask'])\n"
     ]
    }
   ],
   "execution_count": 21
  },
  {
   "cell_type": "code",
   "metadata": {
    "ExecuteTime": {
     "end_time": "2024-12-13T19:22:17.919961Z",
     "start_time": "2024-12-13T19:22:17.807871Z"
    }
   },
   "source": [
    "lr = 0.001\n",
    "num_epochs = 20\n",
    "heads = 4\n",
    "\n",
    "model = Transformer(emb=32, heads=heads, max_seq_length=max_length, vocab_size=len(vocab)).to(\"cuda\")\n",
    "\n",
    "opt = torch.optim.Adam(lr=lr, params=model.parameters())"
   ],
   "outputs": [],
   "execution_count": 22
  },
  {
   "cell_type": "code",
   "metadata": {},
   "source": [
    "accs = []  # List to store validation accuracies\n",
    "\n",
    "for epoch in range(num_epochs):  # Loop over epochs\n",
    "    model.train()  # Set model to training mode\n",
    "    epoch_loss = 0.0\n",
    "\n",
    "    # Training loop\n",
    "    for batch in tqdm(train_data_loader, desc=f\"Epoch {epoch + 1}/{num_epochs} - Training\"):\n",
    "        opt.zero_grad()  # Clear gradients for the optimizer\n",
    "\n",
    "        # Move data to GPU\n",
    "        input = batch[\"input_ids\"].to(\"cuda\")  # Use input_ids as the input\n",
    "        output = batch[\"label\"].to(\"cuda\")    # Use label as the target\n",
    "\n",
    "        # Truncate inputs if necessary\n",
    "        if input.shape[1] > max_length:\n",
    "            input = input[:, :max_length]\n",
    "\n",
    "        # Forward pass and compute loss\n",
    "        preds, _ = model(input)\n",
    "        loss = F.cross_entropy(preds, output)  # Use cross-entropy for raw logits\n",
    "\n",
    "        # Backward pass and update\n",
    "        loss.backward()\n",
    "        opt.step()\n",
    "\n",
    "        # Accumulate loss\n",
    "        epoch_loss += loss.item()\n",
    "\n",
    "    # Validation loop\n",
    "    model.eval()  # Set model to evaluation mode\n",
    "    with torch.no_grad():\n",
    "        tot, cor = 0.0, 0.0\n",
    "        for batch in tqdm(validation_data_loader, desc=\"Validation\"):\n",
    "            # Move data to GPU\n",
    "            input = batch[\"input_ids\"].to(\"cuda\")  # Use input_ids as the input\n",
    "            output = batch[\"label\"].to(\"cuda\")    # Use label as the target\n",
    "\n",
    "            # Truncate inputs if necessary\n",
    "            if input.shape[1] > max_length:\n",
    "                input = input[:, :max_length]\n",
    "\n",
    "            # Forward pass\n",
    "            preds, _ = model(input)\n",
    "            preds = preds.argmax(dim=1)  # Get predicted class indices\n",
    "\n",
    "            # Calculate metrics\n",
    "            tot += float(input.size(0))\n",
    "            cor += float((output == preds).sum().item())\n",
    "\n",
    "        acc = cor / tot  # Calculate validation accuracy\n",
    "        accs.append(acc)  # Store validation accuracy\n",
    "\n",
    "    # Log epoch metrics\n",
    "    print(f\"Epoch {epoch + 1}/{num_epochs}; Loss: {epoch_loss:.4f}; Validation Accuracy: {acc:.4f}\")\n",
    "\n",
    "# Save model and accuracies\n",
    "torch.save(model.state_dict(), f\"trained_models/classify_{heads}heads.pt\")\n",
    "np.save(\"trained_models/acc.npy\", accs)\n"
   ],
   "outputs": [],
   "execution_count": null
  },
  {
   "cell_type": "code",
   "metadata": {},
   "source": [
    "# Plot Validation Accuracy\n",
    "accs = np.load(\"trained_models/acc.npy\")\n",
    "plt.style.use('default')\n",
    "plt.plot(np.linspace(0, 20, len(accs)), accs, label=\"Validation Accuracy\")\n",
    "plt.xlabel(\"Epochs\")\n",
    "plt.ylabel(\"Accuracy\")\n",
    "plt.ylim(0.45, 1)\n",
    "plt.grid()\n",
    "plt.title(\"Transformer Neural Network\")\n",
    "plt.legend()\n",
    "plt.show()"
   ],
   "outputs": [],
   "execution_count": null
  },
  {
   "cell_type": "markdown",
   "metadata": {},
   "source": [
    "## Testing"
   ]
  },
  {
   "cell_type": "code",
   "metadata": {
    "ExecuteTime": {
     "end_time": "2024-12-13T19:22:34.664532Z",
     "start_time": "2024-12-13T19:22:34.650424Z"
    }
   },
   "source": [
    "# Load model with heads. Options: {1 or 4}\n",
    "heads = 4 \n",
    "\n",
    "# Loading Model\n",
    "model.load_state_dict(torch.load(\"./trained_models/classify_{}heads.pt\".format(heads), weights_only=True))"
   ],
   "outputs": [
    {
     "data": {
      "text/plain": [
       "<All keys matched successfully>"
      ]
     },
     "execution_count": 24,
     "metadata": {},
     "output_type": "execute_result"
    }
   ],
   "execution_count": 24
  },
  {
   "cell_type": "code",
   "metadata": {
    "ExecuteTime": {
     "end_time": "2024-12-13T19:22:37.219378Z",
     "start_time": "2024-12-13T19:22:36.661389Z"
    }
   },
   "source": [
    "acc = 0  # Initialize accuracy\n",
    "\n",
    "with torch.no_grad():  # Disable gradient computation\n",
    "    tot, cor = 0.0, 0.0  # Initialize total and correct counters\n",
    "    for batch in validation_data_loader:\n",
    "        # Use the correct keys for input and label\n",
    "        input = batch[\"input_ids\"].to(\"cuda\")  # Use input_ids as the input\n",
    "        output = batch[\"label\"].to(\"cuda\")    # Use label as the target\n",
    "\n",
    "        # Truncate inputs if necessary\n",
    "        if input.shape[1] > max_length:\n",
    "            input = input[:, :max_length]\n",
    "\n",
    "        # Forward pass\n",
    "        preds, _ = model(input)\n",
    "        preds = preds.argmax(dim=1)  # Get predicted class indices\n",
    "\n",
    "        # Update metrics\n",
    "        tot += float(input.size(0))\n",
    "        cor += float((output == preds).sum().item())\n",
    "\n",
    "    acc = cor / tot  # Calculate accuracy\n",
    "\n",
    "print(\"Testing Accuracy: \", acc)\n"
   ],
   "outputs": [
    {
     "name": "stdout",
     "output_type": "stream",
     "text": [
      "Testing Accuracy:  0.8542\n"
     ]
    }
   ],
   "execution_count": 25
  },
  {
   "cell_type": "code",
   "metadata": {
    "ExecuteTime": {
     "end_time": "2024-12-13T19:22:38.865816Z",
     "start_time": "2024-12-13T19:22:38.844208Z"
    }
   },
   "source": [
    "# Picking a random testing review\n",
    "test_review = next(iter(test_data_loader))[\"input_ids\"][0]\n",
    "\n",
    "# Printing the first 10 tokens of the review\n",
    "text = []\n",
    "for num in test_review.numpy()[:10]:  # Extract the first 10 token IDs\n",
    "    token = tokenizer.convert_ids_to_tokens([num])[0]  # Convert ID to token\n",
    "    text.append(token)\n",
    "    print(token)\n"
   ],
   "outputs": [
    {
     "name": "stdout",
     "output_type": "stream",
     "text": [
      "[CLS]\n",
      "i\n",
      "went\n",
      "and\n",
      "saw\n",
      "this\n",
      "movie\n",
      "last\n",
      "night\n",
      "after\n"
     ]
    }
   ],
   "execution_count": 26
  },
  {
   "cell_type": "code",
   "metadata": {
    "ExecuteTime": {
     "end_time": "2024-12-13T19:22:41.431831Z",
     "start_time": "2024-12-13T19:22:41.427902Z"
    }
   },
   "source": [
    "test_review.unsqueeze(0).shape"
   ],
   "outputs": [
    {
     "data": {
      "text/plain": [
       "torch.Size([1, 512])"
      ]
     },
     "execution_count": 27,
     "metadata": {},
     "output_type": "execute_result"
    }
   ],
   "execution_count": 27
  },
  {
   "cell_type": "code",
   "metadata": {
    "ExecuteTime": {
     "end_time": "2024-12-13T19:22:45.210390Z",
     "start_time": "2024-12-13T19:22:44.568889Z"
    }
   },
   "source": [
    "with torch.no_grad():\n",
    "    _, attention = model(test_review.unsqueeze(0).to(\"cuda\"))\n",
    "\n",
    "    attention_weights = attention.cpu().numpy()\n",
    "    \n",
    "for (i, attention) in enumerate(attention_weights):\n",
    "    plt.style.use('default')\n",
    "    plt.figure(figsize=(10,10))\n",
    "    plt.imshow(attention[:10, :10]) \n",
    "    plt.xticks(np.arange(0, 10), text[:10])\n",
    "    plt.yticks(np.arange(0, 10), text[:10])\n",
    "    plt.colorbar()\n",
    "    plt.title(\"Attention Weight {}\".format(i))\n",
    "    plt.show()\n"
   ],
   "outputs": [
    {
     "data": {
      "text/plain": [
       "<Figure size 1000x1000 with 2 Axes>"
      ],
      "image/png": "[encoded data removed]"
     },
     "metadata": {},
     "output_type": "display_data"
    },
    {
     "data": {
      "text/plain": [
       "<Figure size 1000x1000 with 2 Axes>"
      ],
      "image/png": "[encoded data removed]"
     },
     "metadata": {},
     "output_type": "display_data"
    },
    {
     "data": {
      "text/plain": [
       "<Figure size 1000x1000 with 2 Axes>"
      ],
      "image/png": "[encoded data removed]"
     },
     "metadata": {},
     "output_type": "display_data"
    },
    {
     "data": {
      "text/plain": [
       "<Figure size 1000x1000 with 2 Axes>"
      ],
      "image/png": "[encoded data removed]"
     },
     "metadata": {},
     "output_type": "display_data"
    }
   ],
   "execution_count": 28
  },
  {
   "metadata": {},
   "cell_type": "code",
   "outputs": [],
   "execution_count": null,
   "source": ""
  }
 ],
 "metadata": {
  "kernelspec": {
   "display_name": "base",
   "language": "python",
   "name": "python3"
  },
  "language_info": {
   "codemirror_mode": {
    "name": "ipython",
    "version": 3
   },
   "file_extension": ".py",
   "mimetype": "text/x-python",
   "name": "python",
   "nbconvert_exporter": "python",
   "pygments_lexer": "ipython3",
   "version": "3.12.7"
  }
 },
 "nbformat": 4,
 "nbformat_minor": 2
}
